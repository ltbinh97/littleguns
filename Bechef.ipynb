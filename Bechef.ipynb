{
 "cells": [
  {
   "cell_type": "code",
   "execution_count": 1,
   "metadata": {},
   "outputs": [],
   "source": [
    "import pandas as pd\n",
    "import numpy as np\n",
    "import matplotlib.pyplot as plt\n",
    "import seaborn as sns"
   ]
  },
  {
   "cell_type": "code",
   "execution_count": 2,
   "metadata": {},
   "outputs": [
    {
     "data": {
      "text/html": [
       "<div>\n",
       "<style scoped>\n",
       "    .dataframe tbody tr th:only-of-type {\n",
       "        vertical-align: middle;\n",
       "    }\n",
       "\n",
       "    .dataframe tbody tr th {\n",
       "        vertical-align: top;\n",
       "    }\n",
       "\n",
       "    .dataframe thead th {\n",
       "        text-align: right;\n",
       "    }\n",
       "</style>\n",
       "<table border=\"1\" class=\"dataframe\">\n",
       "  <thead>\n",
       "    <tr style=\"text-align: right;\">\n",
       "      <th></th>\n",
       "      <th>r.id</th>\n",
       "      <th>r.name</th>\n",
       "      <th>category</th>\n",
       "      <th>purpose</th>\n",
       "      <th>cooking_type</th>\n",
       "      <th>cuisine</th>\n",
       "      <th>main_ingreds</th>\n",
       "      <th>sub_ingreds</th>\n",
       "      <th>r.keywords</th>\n",
       "    </tr>\n",
       "  </thead>\n",
       "  <tbody>\n",
       "    <tr>\n",
       "      <th>0</th>\n",
       "      <td>100</td>\n",
       "      <td>ốc móng tay xào tỏi</td>\n",
       "      <td>[Rang - Xào,Nghêu-Sò-Ốc]</td>\n",
       "      <td>[Ăn vặt]</td>\n",
       "      <td>xào</td>\n",
       "      <td>việt nam</td>\n",
       "      <td>ốc móng tay,tỏi</td>\n",
       "      <td>đường trắng,muối,ớt băm,tương ớt</td>\n",
       "      <td>[ốc xào tỏi,ốc chấy tỏi,ốc móng tay xào,ốc xào...</td>\n",
       "    </tr>\n",
       "    <tr>\n",
       "      <th>1</th>\n",
       "      <td>101</td>\n",
       "      <td>gỏi xoài hàu</td>\n",
       "      <td>[Salad]</td>\n",
       "      <td>[Tốt cho sức khỏe,Tốt cho tim mạch,Cho phái mạnh]</td>\n",
       "      <td>trộn</td>\n",
       "      <td>việt nam</td>\n",
       "      <td>xoài xanh,hàu sữa</td>\n",
       "      <td>muối,sa tế tôm,nước cốt chanh,đường nâu,nước m...</td>\n",
       "      <td>[gỏi xoài hàu,món gỏi xoài hàu,gỏi xoài hàu đơ...</td>\n",
       "    </tr>\n",
       "    <tr>\n",
       "      <th>2</th>\n",
       "      <td>102</td>\n",
       "      <td>ốc hút xào dừa béo ngậy</td>\n",
       "      <td>[Rang - Xào,Nghêu-Sò-Ốc]</td>\n",
       "      <td>[Ăn vặt]</td>\n",
       "      <td>xào</td>\n",
       "      <td>việt nam</td>\n",
       "      <td>nước cốt dừa,ốc len</td>\n",
       "      <td>đường trắng,muối,tỏi,rau răm,sả,rượu trắng</td>\n",
       "      <td>[ốc len,ốc hút,ốc xào,ốc len xào dừa,ốc hút xà...</td>\n",
       "    </tr>\n",
       "    <tr>\n",
       "      <th>3</th>\n",
       "      <td>103</td>\n",
       "      <td>sò lông nướng sốt xoài</td>\n",
       "      <td>[Nghêu-Sò-Ốc]</td>\n",
       "      <td>[Tiệc]</td>\n",
       "      <td>nướng</td>\n",
       "      <td>việt nam</td>\n",
       "      <td>xoài chín,sò lông</td>\n",
       "      <td>dầu ăn,muối,đường trắng,hạt điều,hành lá</td>\n",
       "      <td>[sò lông nướng,sò lông nướng mỡ hành,cách làm ...</td>\n",
       "    </tr>\n",
       "    <tr>\n",
       "      <th>4</th>\n",
       "      <td>104</td>\n",
       "      <td>trứng vịt lộn nướng muối ớt</td>\n",
       "      <td>[Nước chấm - Sốt]</td>\n",
       "      <td>[Ăn trưa]</td>\n",
       "      <td>nướng</td>\n",
       "      <td>việt nam</td>\n",
       "      <td>ớt bột,trứng vịt lộn</td>\n",
       "      <td>muối,hành lá,tỏi băm,hành tím,ớt,đường trắng,n...</td>\n",
       "      <td>[trứng vịt lộn nướng muối ớt,cách làm trứng vị...</td>\n",
       "    </tr>\n",
       "  </tbody>\n",
       "</table>\n",
       "</div>"
      ],
      "text/plain": [
       "   r.id                       r.name                  category  \\\n",
       "0   100          ốc móng tay xào tỏi  [Rang - Xào,Nghêu-Sò-Ốc]   \n",
       "1   101                 gỏi xoài hàu                   [Salad]   \n",
       "2   102      ốc hút xào dừa béo ngậy  [Rang - Xào,Nghêu-Sò-Ốc]   \n",
       "3   103       sò lông nướng sốt xoài             [Nghêu-Sò-Ốc]   \n",
       "4   104  trứng vịt lộn nướng muối ớt         [Nước chấm - Sốt]   \n",
       "\n",
       "                                             purpose cooking_type   cuisine  \\\n",
       "0                                           [Ăn vặt]          xào  việt nam   \n",
       "1  [Tốt cho sức khỏe,Tốt cho tim mạch,Cho phái mạnh]         trộn  việt nam   \n",
       "2                                           [Ăn vặt]          xào  việt nam   \n",
       "3                                             [Tiệc]        nướng  việt nam   \n",
       "4                                          [Ăn trưa]        nướng  việt nam   \n",
       "\n",
       "           main_ingreds                                        sub_ingreds  \\\n",
       "0       ốc móng tay,tỏi                   đường trắng,muối,ớt băm,tương ớt   \n",
       "1     xoài xanh,hàu sữa  muối,sa tế tôm,nước cốt chanh,đường nâu,nước m...   \n",
       "2   nước cốt dừa,ốc len         đường trắng,muối,tỏi,rau răm,sả,rượu trắng   \n",
       "3     xoài chín,sò lông           dầu ăn,muối,đường trắng,hạt điều,hành lá   \n",
       "4  ớt bột,trứng vịt lộn  muối,hành lá,tỏi băm,hành tím,ớt,đường trắng,n...   \n",
       "\n",
       "                                          r.keywords  \n",
       "0  [ốc xào tỏi,ốc chấy tỏi,ốc móng tay xào,ốc xào...  \n",
       "1  [gỏi xoài hàu,món gỏi xoài hàu,gỏi xoài hàu đơ...  \n",
       "2  [ốc len,ốc hút,ốc xào,ốc len xào dừa,ốc hút xà...  \n",
       "3  [sò lông nướng,sò lông nướng mỡ hành,cách làm ...  \n",
       "4  [trứng vịt lộn nướng muối ớt,cách làm trứng vị...  "
      ]
     },
     "execution_count": 2,
     "metadata": {},
     "output_type": "execute_result"
    }
   ],
   "source": [
    "df = pd.read_excel('data/menu_main.xlsx')\n",
    "df.head()"
   ]
  },
  {
   "cell_type": "code",
   "execution_count": 3,
   "metadata": {},
   "outputs": [
    {
     "data": {
      "text/plain": [
       "(20925, 9)"
      ]
     },
     "execution_count": 3,
     "metadata": {},
     "output_type": "execute_result"
    }
   ],
   "source": [
    "df.shape"
   ]
  },
  {
   "cell_type": "code",
   "execution_count": 4,
   "metadata": {},
   "outputs": [
    {
     "data": {
      "text/plain": [
       "(20925, 8)"
      ]
     },
     "execution_count": 4,
     "metadata": {},
     "output_type": "execute_result"
    }
   ],
   "source": [
    "df = df.drop(['r.id'], axis=1)\n",
    "df.shape"
   ]
  },
  {
   "cell_type": "code",
   "execution_count": 5,
   "metadata": {},
   "outputs": [
    {
     "data": {
      "text/plain": [
       "r.name             0\n",
       "category           0\n",
       "purpose            0\n",
       "cooking_type       0\n",
       "cuisine            0\n",
       "main_ingreds     617\n",
       "sub_ingreds     1296\n",
       "r.keywords       611\n",
       "dtype: int64"
      ]
     },
     "execution_count": 5,
     "metadata": {},
     "output_type": "execute_result"
    }
   ],
   "source": [
    "df.isnull().sum()"
   ]
  },
  {
   "cell_type": "code",
   "execution_count": 6,
   "metadata": {},
   "outputs": [],
   "source": [
    "# Hàm tính tổng các giá trị còn thiếu\n",
    "def missing_values(df):\n",
    "    mis_val = df.isnull().sum() #tổng các giá trị còn thiếu\n",
    "    mis_val_per = 100 * df.isnull().sum()/len(df) #Phần trăm các giá trị còn thiếu\n",
    "    mis_val_table = pd.concat([mis_val, mis_val_per], axis=1) #Tạo thành bảng để thể hiện 2 giá trị trên\n",
    "    mis_val_table_rename = mis_val_table.rename(\n",
    "    columns = {0: \"Missing\", 1 : \"Percent %\"})\n",
    "    #Sắp xếp bảng theo tỉ lệ phần trăm giảm dần\n",
    "    mis_val_table_rename = mis_val_table_rename[mis_val_table_rename.iloc[:, 1] != 0].sort_values(\"Percent %\", ascending=False).round(1)\n",
    "    print(\"Có tất cả \" + str(df.shape[1]) + \" cột.\\n\"\n",
    "          \"Trog đó có \" + str(mis_val_table_rename.shape[0]) + \" cột bị thiếu data\")\n",
    "    return mis_val_table_rename"
   ]
  },
  {
   "cell_type": "code",
   "execution_count": 7,
   "metadata": {},
   "outputs": [
    {
     "name": "stdout",
     "output_type": "stream",
     "text": [
      "Có tất cả 8 cột.\n",
      "Trog đó có 3 cột bị thiếu data\n"
     ]
    },
    {
     "data": {
      "text/html": [
       "<div>\n",
       "<style scoped>\n",
       "    .dataframe tbody tr th:only-of-type {\n",
       "        vertical-align: middle;\n",
       "    }\n",
       "\n",
       "    .dataframe tbody tr th {\n",
       "        vertical-align: top;\n",
       "    }\n",
       "\n",
       "    .dataframe thead th {\n",
       "        text-align: right;\n",
       "    }\n",
       "</style>\n",
       "<table border=\"1\" class=\"dataframe\">\n",
       "  <thead>\n",
       "    <tr style=\"text-align: right;\">\n",
       "      <th></th>\n",
       "      <th>Missing</th>\n",
       "      <th>Percent %</th>\n",
       "    </tr>\n",
       "  </thead>\n",
       "  <tbody>\n",
       "    <tr>\n",
       "      <th>sub_ingreds</th>\n",
       "      <td>1296</td>\n",
       "      <td>6.2</td>\n",
       "    </tr>\n",
       "    <tr>\n",
       "      <th>main_ingreds</th>\n",
       "      <td>617</td>\n",
       "      <td>2.9</td>\n",
       "    </tr>\n",
       "    <tr>\n",
       "      <th>r.keywords</th>\n",
       "      <td>611</td>\n",
       "      <td>2.9</td>\n",
       "    </tr>\n",
       "  </tbody>\n",
       "</table>\n",
       "</div>"
      ],
      "text/plain": [
       "              Missing  Percent %\n",
       "sub_ingreds      1296        6.2\n",
       "main_ingreds      617        2.9\n",
       "r.keywords        611        2.9"
      ]
     },
     "execution_count": 7,
     "metadata": {},
     "output_type": "execute_result"
    }
   ],
   "source": [
    "missing = missing_values(df)\n",
    "missing"
   ]
  },
  {
   "cell_type": "code",
   "execution_count": 8,
   "metadata": {},
   "outputs": [
    {
     "name": "stderr",
     "output_type": "stream",
     "text": [
      ":FEATURES DONE:                    |                     | [  0%]   00:02  -> (00:00 left)\n",
      ":PAIRWISE DONE:                    |█████████████████████| [100%]   00:00  -> (00:00 left)\n"
     ]
    },
    {
     "name": "stdout",
     "output_type": "stream",
     "text": [
      "Creating Associations graph... DONE!\n"
     ]
    }
   ],
   "source": [
    "import sweetviz as sv\n",
    "\n",
    "advert_report = sv.analyze(df) \n",
    "advert_report.show_html(\"df.html\")"
   ]
  }
 ],
 "metadata": {
  "kernelspec": {
   "display_name": "Python 3",
   "language": "python",
   "name": "python3"
  },
  "language_info": {
   "codemirror_mode": {
    "name": "ipython",
    "version": 3
   },
   "file_extension": ".py",
   "mimetype": "text/x-python",
   "name": "python",
   "nbconvert_exporter": "python",
   "pygments_lexer": "ipython3",
   "version": "3.7.6"
  }
 },
 "nbformat": 4,
 "nbformat_minor": 4
}
